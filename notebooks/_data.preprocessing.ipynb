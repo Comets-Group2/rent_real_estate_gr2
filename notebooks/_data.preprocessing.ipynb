{
 "cells": [
  {
   "cell_type": "code",
   "execution_count": 1,
   "id": "9fe91afe",
   "metadata": {},
   "outputs": [],
   "source": [
    "import pandas as pd\n",
    "import matplotlib.pyplot as plt\n",
    "import numpy as np\n",
    "import seaborn as sns\n",
    "pd.set_option('display.max_columns', None)  # отобразить все колонки\n",
    "pd.set_option('display.max_rows', None)"
   ]
  },
  {
   "cell_type": "code",
   "execution_count": 2,
   "id": "871caced",
   "metadata": {},
   "outputs": [
    {
     "name": "stderr",
     "output_type": "stream",
     "text": [
      "/tmp/ipykernel_38966/2416377651.py:1: DtypeWarning: Columns (28) have mixed types. Specify dtype option on import or set low_memory=False.\n",
      "  df = pd.read_csv('../data/_data.with_new_cols.csv')\n"
     ]
    }
   ],
   "source": [
    "df = pd.read_csv('../data/_data.with_new_cols.csv')"
   ]
  },
  {
   "cell_type": "code",
   "execution_count": 17,
   "id": "40362dad",
   "metadata": {},
   "outputs": [],
   "source": [
    "df[['floor', 'n_of_floors', 'build_type']] = df['Дом'].str.extract(r'(\\d+)[/\\\\](\\d+),?\\s*([А-Яа-яA-Za-z\\s]+)?')  # Добавила 3 колонки"
   ]
  },
  {
   "cell_type": "code",
   "execution_count": null,
   "id": "726c36e8",
   "metadata": {},
   "outputs": [],
   "source": [
    "df = df.drop_duplicates(\n",
    "    subset=['Адрес', 'Общая площадь', 'rooms_qty', 'floor', 'n_of_floors', 'Ремонт'],\n",
    "    keep='first'\n",
    ").copy() # Убрали дублирующие строки 454\n"
   ]
  },
  {
   "cell_type": "code",
   "execution_count": null,
   "id": "266331cc",
   "metadata": {},
   "outputs": [
    {
     "data": {
      "text/plain": [
       "(19283, 41)"
      ]
     },
     "execution_count": 33,
     "metadata": {},
     "output_type": "execute_result"
    }
   ],
   "source": []
  }
 ],
 "metadata": {
  "kernelspec": {
   "display_name": ".venv",
   "language": "python",
   "name": "python3"
  },
  "language_info": {
   "codemirror_mode": {
    "name": "ipython",
    "version": 3
   },
   "file_extension": ".py",
   "mimetype": "text/x-python",
   "name": "python",
   "nbconvert_exporter": "python",
   "pygments_lexer": "ipython3",
   "version": "3.12.10"
  }
 },
 "nbformat": 4,
 "nbformat_minor": 5
}
