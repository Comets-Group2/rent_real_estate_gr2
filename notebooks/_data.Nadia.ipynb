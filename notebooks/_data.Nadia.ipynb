{
 "cells": [
  {
   "cell_type": "code",
   "execution_count": 59,
   "id": "97690bfd",
   "metadata": {},
   "outputs": [],
   "source": [
    "import pandas as pd\n",
    "import matplotlib.pyplot as plt\n",
    "import numpy as np\n",
    "import seaborn as sns\n",
    "pd.set_option('display.max_columns', None)"
   ]
  },
  {
   "cell_type": "code",
   "execution_count": 24,
   "id": "d4204f90",
   "metadata": {},
   "outputs": [],
   "source": [
    "df = pd.read_csv('/Users/maryjones/Downloads/_data.csv')"
   ]
  },
  {
   "cell_type": "code",
   "execution_count": 81,
   "id": "d4f30f2c",
   "metadata": {},
   "outputs": [],
   "source": [
    "df = df[df['Адрес'].str.contains(\"Москва\", case=False, na=False)].copy() # отфильтровали строки, где в адресе не 'Москва'."
   ]
  },
  {
   "cell_type": "code",
   "execution_count": 116,
   "id": "fcbc6c26",
   "metadata": {},
   "outputs": [
    {
     "data": {
      "text/html": [
       "<div>\n",
       "<style scoped>\n",
       "    .dataframe tbody tr th:only-of-type {\n",
       "        vertical-align: middle;\n",
       "    }\n",
       "\n",
       "    .dataframe tbody tr th {\n",
       "        vertical-align: top;\n",
       "    }\n",
       "\n",
       "    .dataframe thead th {\n",
       "        text-align: right;\n",
       "    }\n",
       "</style>\n",
       "<table border=\"1\" class=\"dataframe\">\n",
       "  <thead>\n",
       "    <tr style=\"text-align: right;\">\n",
       "      <th></th>\n",
       "      <th>Unnamed: 0</th>\n",
       "      <th>ID  объявления</th>\n",
       "      <th>Количество комнат</th>\n",
       "      <th>Тип</th>\n",
       "      <th>Метро</th>\n",
       "      <th>Адрес</th>\n",
       "      <th>Площадь, м2</th>\n",
       "      <th>Дом</th>\n",
       "      <th>Парковка</th>\n",
       "      <th>Цена</th>\n",
       "      <th>Телефоны</th>\n",
       "      <th>Описание</th>\n",
       "      <th>Ремонт</th>\n",
       "      <th>Площадь комнат, м2</th>\n",
       "      <th>Балкон</th>\n",
       "      <th>Окна</th>\n",
       "      <th>Санузел</th>\n",
       "      <th>Можно с детьми/животными</th>\n",
       "      <th>Дополнительно</th>\n",
       "      <th>Название ЖК</th>\n",
       "      <th>Серия дома</th>\n",
       "      <th>Высота потолков, м</th>\n",
       "      <th>Лифт</th>\n",
       "      <th>Мусоропровод</th>\n",
       "      <th>Ссылка на объявление</th>\n",
       "      <th>Станция</th>\n",
       "      <th>Путь до метро</th>\n",
       "      <th>Общая площадь</th>\n",
       "      <th>slash_count</th>\n",
       "      <th>rooms_qty</th>\n",
       "      <th>room_type</th>\n",
       "      <th>Станция метро</th>\n",
       "    </tr>\n",
       "  </thead>\n",
       "  <tbody>\n",
       "    <tr>\n",
       "      <th>0</th>\n",
       "      <td>0</td>\n",
       "      <td>271271157</td>\n",
       "      <td>4</td>\n",
       "      <td>Квартира</td>\n",
       "      <td>м. Смоленская (9 мин пешком)</td>\n",
       "      <td>Москва, улица Новый Арбат, 27</td>\n",
       "      <td>200.0/20.0</td>\n",
       "      <td>5/16, Монолитный</td>\n",
       "      <td>подземная</td>\n",
       "      <td>500000.0 руб./ За месяц, Залог - 500000 руб., ...</td>\n",
       "      <td>+79166369231</td>\n",
       "      <td>Без комиссии для нанимателя! Бонус коллегам 12...</td>\n",
       "      <td>Дизайнерский</td>\n",
       "      <td>NaN</td>\n",
       "      <td>NaN</td>\n",
       "      <td>NaN</td>\n",
       "      <td>NaN</td>\n",
       "      <td>Можно с детьми, Можно с животными</td>\n",
       "      <td>Мебель в комнатах, Мебель на кухне, Ванна, Душ...</td>\n",
       "      <td>Новый Арбат, 2010</td>\n",
       "      <td>NaN</td>\n",
       "      <td>3.0</td>\n",
       "      <td>Пасс (4), Груз (1)</td>\n",
       "      <td>Да</td>\n",
       "      <td>https://www.cian.ru/rent/flat/271271157</td>\n",
       "      <td>м. Смоленская</td>\n",
       "      <td>(9 мин пешком)</td>\n",
       "      <td>200.0</td>\n",
       "      <td>1</td>\n",
       "      <td>4</td>\n",
       "      <td>None</td>\n",
       "      <td>м. Смоленская</td>\n",
       "    </tr>\n",
       "    <tr>\n",
       "      <th>1</th>\n",
       "      <td>1</td>\n",
       "      <td>271634126</td>\n",
       "      <td>4</td>\n",
       "      <td>Квартира</td>\n",
       "      <td>м. Смоленская (8 мин пешком)</td>\n",
       "      <td>Москва, улица Новый Арбат, 27</td>\n",
       "      <td>198.0/95.0/18.0</td>\n",
       "      <td>5/16, Монолитно-кирпичный</td>\n",
       "      <td>подземная</td>\n",
       "      <td>500000.0 руб./ За месяц, Залог - 500000 руб., ...</td>\n",
       "      <td>+79850608590</td>\n",
       "      <td>Лот 93107. Елена Анисимова.\\n\\nБонус агенту 50...</td>\n",
       "      <td>Дизайнерский</td>\n",
       "      <td>25 25 20 25</td>\n",
       "      <td>NaN</td>\n",
       "      <td>На улицу и двор</td>\n",
       "      <td>Совмещенный (2), Раздельный (1)</td>\n",
       "      <td>Можно с детьми</td>\n",
       "      <td>Мебель в комнатах, Мебель на кухне, Ванна, Душ...</td>\n",
       "      <td>Новый Арбат</td>\n",
       "      <td>NaN</td>\n",
       "      <td>3.5</td>\n",
       "      <td>Пасс (1), Груз (1)</td>\n",
       "      <td>Нет</td>\n",
       "      <td>https://www.cian.ru/rent/flat/271634126</td>\n",
       "      <td>м. Смоленская</td>\n",
       "      <td>(8 мин пешком)</td>\n",
       "      <td>198.0</td>\n",
       "      <td>2</td>\n",
       "      <td>4</td>\n",
       "      <td>None</td>\n",
       "      <td>м. Смоленская</td>\n",
       "    </tr>\n",
       "    <tr>\n",
       "      <th>2</th>\n",
       "      <td>2</td>\n",
       "      <td>271173086</td>\n",
       "      <td>4, Оба варианта</td>\n",
       "      <td>Квартира</td>\n",
       "      <td>м. Смоленская (7 мин пешком)</td>\n",
       "      <td>Москва, улица Новый Арбат, 27</td>\n",
       "      <td>200.0/116.0/4.0</td>\n",
       "      <td>5/16</td>\n",
       "      <td>подземная</td>\n",
       "      <td>500000.0 руб./ За месяц, Залог - 500000 руб., ...</td>\n",
       "      <td>+79672086536, +79099269384</td>\n",
       "      <td>ID 36380:  Шикарная 4-х км. квартира в ЖК \"Нов...</td>\n",
       "      <td>Евроремонт</td>\n",
       "      <td>NaN</td>\n",
       "      <td>NaN</td>\n",
       "      <td>На улицу и двор</td>\n",
       "      <td>Совмещенный (3)</td>\n",
       "      <td>Можно с детьми</td>\n",
       "      <td>Мебель в комнатах, Мебель на кухне, Ванна, Душ...</td>\n",
       "      <td>Новый Арбат</td>\n",
       "      <td>NaN</td>\n",
       "      <td>3.2</td>\n",
       "      <td>Пасс (1)</td>\n",
       "      <td>NaN</td>\n",
       "      <td>https://www.cian.ru/rent/flat/271173086</td>\n",
       "      <td>м. Смоленская</td>\n",
       "      <td>(7 мин пешком)</td>\n",
       "      <td>200.0</td>\n",
       "      <td>2</td>\n",
       "      <td>4</td>\n",
       "      <td>Оба варианта</td>\n",
       "      <td>м. Смоленская</td>\n",
       "    </tr>\n",
       "    <tr>\n",
       "      <th>3</th>\n",
       "      <td>3</td>\n",
       "      <td>272197456</td>\n",
       "      <td>4, Оба варианта</td>\n",
       "      <td>Квартира</td>\n",
       "      <td>м. Смоленская (3 мин пешком)</td>\n",
       "      <td>Москва, переулок Плотников, 21С1</td>\n",
       "      <td>170.0/95.0/17.0</td>\n",
       "      <td>5/6</td>\n",
       "      <td>подземная</td>\n",
       "      <td>400000.0 руб./ За месяц, Залог - 400000 руб., ...</td>\n",
       "      <td>+79660342340, +79099269384</td>\n",
       "      <td>ID 31618:  Эксклюзивное предложение. Современн...</td>\n",
       "      <td>Евроремонт</td>\n",
       "      <td>14-42-20-19</td>\n",
       "      <td>NaN</td>\n",
       "      <td>На улицу и двор</td>\n",
       "      <td>Совмещенный (3)</td>\n",
       "      <td>Можно с животными</td>\n",
       "      <td>Мебель в комнатах, Мебель на кухне, Ванна, Душ...</td>\n",
       "      <td>NaN</td>\n",
       "      <td>NaN</td>\n",
       "      <td>3.2</td>\n",
       "      <td>Пасс (1)</td>\n",
       "      <td>NaN</td>\n",
       "      <td>https://www.cian.ru/rent/flat/272197456</td>\n",
       "      <td>м. Смоленская</td>\n",
       "      <td>(3 мин пешком)</td>\n",
       "      <td>170.0</td>\n",
       "      <td>2</td>\n",
       "      <td>4</td>\n",
       "      <td>Оба варианта</td>\n",
       "      <td>м. Смоленская</td>\n",
       "    </tr>\n",
       "    <tr>\n",
       "      <th>4</th>\n",
       "      <td>4</td>\n",
       "      <td>273614615</td>\n",
       "      <td>2</td>\n",
       "      <td>Квартира</td>\n",
       "      <td>м. Арбатская (7 мин пешком)</td>\n",
       "      <td>Москва, улица Новый Арбат, 15</td>\n",
       "      <td>58.0/38.0/5.0</td>\n",
       "      <td>12/26, Панельный</td>\n",
       "      <td>NaN</td>\n",
       "      <td>225000.0 руб./ За месяц, Залог - 225000 руб., ...</td>\n",
       "      <td>+79852432860</td>\n",
       "      <td>Лот 111542. Татьяна Лучкина.\\n\\nБонус агенту 5...</td>\n",
       "      <td>Евроремонт</td>\n",
       "      <td>20 18</td>\n",
       "      <td>NaN</td>\n",
       "      <td>На улицу и двор</td>\n",
       "      <td>Совмещенный (2)</td>\n",
       "      <td>NaN</td>\n",
       "      <td>Мебель в комнатах, Мебель на кухне, Ванна, Душ...</td>\n",
       "      <td>The Book</td>\n",
       "      <td>NaN</td>\n",
       "      <td>3.9</td>\n",
       "      <td>Пасс (1), Груз (1)</td>\n",
       "      <td>Да</td>\n",
       "      <td>https://www.cian.ru/rent/flat/273614615</td>\n",
       "      <td>м. Арбатская</td>\n",
       "      <td>(7 мин пешком)</td>\n",
       "      <td>58.0</td>\n",
       "      <td>2</td>\n",
       "      <td>2</td>\n",
       "      <td>None</td>\n",
       "      <td>м. Арбатская</td>\n",
       "    </tr>\n",
       "  </tbody>\n",
       "</table>\n",
       "</div>"
      ],
      "text/plain": [
       "   Unnamed: 0  ID  объявления Количество комнат       Тип  \\\n",
       "0           0       271271157                 4  Квартира   \n",
       "1           1       271634126                 4  Квартира   \n",
       "2           2       271173086   4, Оба варианта  Квартира   \n",
       "3           3       272197456   4, Оба варианта  Квартира   \n",
       "4           4       273614615                 2  Квартира   \n",
       "\n",
       "                          Метро                             Адрес  \\\n",
       "0  м. Смоленская (9 мин пешком)     Москва, улица Новый Арбат, 27   \n",
       "1  м. Смоленская (8 мин пешком)     Москва, улица Новый Арбат, 27   \n",
       "2  м. Смоленская (7 мин пешком)     Москва, улица Новый Арбат, 27   \n",
       "3  м. Смоленская (3 мин пешком)  Москва, переулок Плотников, 21С1   \n",
       "4   м. Арбатская (7 мин пешком)     Москва, улица Новый Арбат, 15   \n",
       "\n",
       "       Площадь, м2                        Дом   Парковка  \\\n",
       "0       200.0/20.0           5/16, Монолитный  подземная   \n",
       "1  198.0/95.0/18.0  5/16, Монолитно-кирпичный  подземная   \n",
       "2  200.0/116.0/4.0                       5/16  подземная   \n",
       "3  170.0/95.0/17.0                        5/6  подземная   \n",
       "4    58.0/38.0/5.0           12/26, Панельный        NaN   \n",
       "\n",
       "                                                Цена  \\\n",
       "0  500000.0 руб./ За месяц, Залог - 500000 руб., ...   \n",
       "1  500000.0 руб./ За месяц, Залог - 500000 руб., ...   \n",
       "2  500000.0 руб./ За месяц, Залог - 500000 руб., ...   \n",
       "3  400000.0 руб./ За месяц, Залог - 400000 руб., ...   \n",
       "4  225000.0 руб./ За месяц, Залог - 225000 руб., ...   \n",
       "\n",
       "                     Телефоны  \\\n",
       "0                +79166369231   \n",
       "1                +79850608590   \n",
       "2  +79672086536, +79099269384   \n",
       "3  +79660342340, +79099269384   \n",
       "4                +79852432860   \n",
       "\n",
       "                                            Описание        Ремонт  \\\n",
       "0  Без комиссии для нанимателя! Бонус коллегам 12...  Дизайнерский   \n",
       "1  Лот 93107. Елена Анисимова.\\n\\nБонус агенту 50...  Дизайнерский   \n",
       "2  ID 36380:  Шикарная 4-х км. квартира в ЖК \"Нов...    Евроремонт   \n",
       "3  ID 31618:  Эксклюзивное предложение. Современн...    Евроремонт   \n",
       "4  Лот 111542. Татьяна Лучкина.\\n\\nБонус агенту 5...    Евроремонт   \n",
       "\n",
       "  Площадь комнат, м2 Балкон             Окна                          Санузел  \\\n",
       "0                NaN    NaN              NaN                              NaN   \n",
       "1        25 25 20 25    NaN  На улицу и двор  Совмещенный (2), Раздельный (1)   \n",
       "2                NaN    NaN  На улицу и двор                  Совмещенный (3)   \n",
       "3        14-42-20-19    NaN  На улицу и двор                  Совмещенный (3)   \n",
       "4              20 18    NaN  На улицу и двор                  Совмещенный (2)   \n",
       "\n",
       "            Можно с детьми/животными  \\\n",
       "0  Можно с детьми, Можно с животными   \n",
       "1                     Можно с детьми   \n",
       "2                     Можно с детьми   \n",
       "3                  Можно с животными   \n",
       "4                                NaN   \n",
       "\n",
       "                                       Дополнительно        Название ЖК  \\\n",
       "0  Мебель в комнатах, Мебель на кухне, Ванна, Душ...  Новый Арбат, 2010   \n",
       "1  Мебель в комнатах, Мебель на кухне, Ванна, Душ...        Новый Арбат   \n",
       "2  Мебель в комнатах, Мебель на кухне, Ванна, Душ...        Новый Арбат   \n",
       "3  Мебель в комнатах, Мебель на кухне, Ванна, Душ...                NaN   \n",
       "4  Мебель в комнатах, Мебель на кухне, Ванна, Душ...           The Book   \n",
       "\n",
       "  Серия дома  Высота потолков, м                Лифт Мусоропровод  \\\n",
       "0        NaN                 3.0  Пасс (4), Груз (1)           Да   \n",
       "1        NaN                 3.5  Пасс (1), Груз (1)          Нет   \n",
       "2        NaN                 3.2            Пасс (1)          NaN   \n",
       "3        NaN                 3.2            Пасс (1)          NaN   \n",
       "4        NaN                 3.9  Пасс (1), Груз (1)           Да   \n",
       "\n",
       "                      Ссылка на объявление        Станция   Путь до метро  \\\n",
       "0  https://www.cian.ru/rent/flat/271271157  м. Смоленская  (9 мин пешком)   \n",
       "1  https://www.cian.ru/rent/flat/271634126  м. Смоленская  (8 мин пешком)   \n",
       "2  https://www.cian.ru/rent/flat/271173086  м. Смоленская  (7 мин пешком)   \n",
       "3  https://www.cian.ru/rent/flat/272197456  м. Смоленская  (3 мин пешком)   \n",
       "4  https://www.cian.ru/rent/flat/273614615   м. Арбатская  (7 мин пешком)   \n",
       "\n",
       "   Общая площадь  slash_count  rooms_qty     room_type  Станция метро  \n",
       "0          200.0            1          4          None  м. Смоленская  \n",
       "1          198.0            2          4          None  м. Смоленская  \n",
       "2          200.0            2          4  Оба варианта  м. Смоленская  \n",
       "3          170.0            2          4  Оба варианта  м. Смоленская  \n",
       "4           58.0            2          2          None   м. Арбатская  "
      ]
     },
     "execution_count": 116,
     "metadata": {},
     "output_type": "execute_result"
    }
   ],
   "source": [
    "df.head()"
   ]
  },
  {
   "cell_type": "code",
   "execution_count": 133,
   "id": "9f0e9844",
   "metadata": {},
   "outputs": [
    {
     "data": {
      "text/plain": [
       "Unnamed: 0                    int64\n",
       "ID  объявления                int64\n",
       "Количество комнат            object\n",
       "Тип                          object\n",
       "Метро                        object\n",
       "Адрес                        object\n",
       "Площадь, м2                  object\n",
       "Дом                          object\n",
       "Парковка                     object\n",
       "Цена                         object\n",
       "Телефоны                     object\n",
       "Описание                     object\n",
       "Ремонт                       object\n",
       "Площадь комнат, м2           object\n",
       "Балкон                       object\n",
       "Окна                         object\n",
       "Санузел                      object\n",
       "Можно с детьми/животными     object\n",
       "Дополнительно                object\n",
       "Название ЖК                  object\n",
       "Серия дома                   object\n",
       "Высота потолков, м          float64\n",
       "Лифт                         object\n",
       "Мусоропровод                 object\n",
       "Ссылка на объявление         object\n",
       "Станция                      object\n",
       "Путь до метро                object\n",
       "Общая площадь               float64\n",
       "slash_count                   int64\n",
       "rooms_qty                     int64\n",
       "room_type                    object\n",
       "Станция метро                object\n",
       "dtype: object"
      ]
     },
     "execution_count": 133,
     "metadata": {},
     "output_type": "execute_result"
    }
   ],
   "source": [
    "df.dtypes"
   ]
  },
  {
   "cell_type": "code",
   "execution_count": 134,
   "id": "1151dc62",
   "metadata": {},
   "outputs": [
    {
     "data": {
      "text/plain": [
       "Index(['Unnamed: 0', 'ID  объявления', 'Количество комнат', 'Тип', 'Метро',\n",
       "       'Адрес', 'Площадь, м2', 'Дом', 'Парковка', 'Цена', 'Телефоны',\n",
       "       'Описание', 'Ремонт', 'Площадь комнат, м2', 'Балкон', 'Окна', 'Санузел',\n",
       "       'Можно с детьми/животными', 'Дополнительно', 'Название ЖК',\n",
       "       'Серия дома', 'Высота потолков, м', 'Лифт', 'Мусоропровод',\n",
       "       'Ссылка на объявление', 'Станция', 'Путь до метро', 'Общая площадь',\n",
       "       'slash_count', 'rooms_qty', 'room_type', 'Станция метро'],\n",
       "      dtype='object')"
      ]
     },
     "execution_count": 134,
     "metadata": {},
     "output_type": "execute_result"
    }
   ],
   "source": [
    "df.columns"
   ]
  },
  {
   "cell_type": "code",
   "execution_count": 75,
   "id": "14d9af46",
   "metadata": {},
   "outputs": [
    {
     "data": {
      "text/plain": [
       "Unnamed: 0                      0\n",
       "ID  объявления                  0\n",
       "Количество комнат             535\n",
       "Тип                             0\n",
       "Метро                         346\n",
       "Адрес                           0\n",
       "Площадь, м2                     0\n",
       "Дом                             0\n",
       "Парковка                    11174\n",
       "Цена                            0\n",
       "Телефоны                        0\n",
       "Описание                        0\n",
       "Ремонт                       2463\n",
       "Площадь комнат, м2           7228\n",
       "Балкон                       6630\n",
       "Окна                         5150\n",
       "Санузел                      2041\n",
       "Можно с детьми/животными     4915\n",
       "Дополнительно                 272\n",
       "Название ЖК                 15281\n",
       "Серия дома                  17646\n",
       "Высота потолков, м           9202\n",
       "Лифт                         4192\n",
       "Мусоропровод                 8007\n",
       "Ссылка на объявление            0\n",
       "Станция                       346\n",
       "Путь до метро                 346\n",
       "Общая площадь                   0\n",
       "slash_count                     0\n",
       "rooms_qty                       0\n",
       "room_type                   11770\n",
       "dtype: int64"
      ]
     },
     "execution_count": 75,
     "metadata": {},
     "output_type": "execute_result"
    }
   ],
   "source": [
    "df.isnull().sum()"
   ]
  },
  {
   "cell_type": "code",
   "execution_count": 77,
   "id": "f2863528",
   "metadata": {},
   "outputs": [],
   "source": [
    "#df[df['Ссылка на объявление'].str.contains('cian.ru', na=False)] # Все данные с платформы cian.ru"
   ]
  },
  {
   "cell_type": "code",
   "execution_count": 93,
   "id": "c72703a7",
   "metadata": {},
   "outputs": [],
   "source": [
    "df[['Станция метро', 'Путь до метро']] = df['Метро'].str.extract(r'^(.*?)\\s*(\\(.+\\))$')  # Выделили станции Метро"
   ]
  },
  {
   "cell_type": "code",
   "execution_count": 94,
   "id": "d7f16ca6",
   "metadata": {},
   "outputs": [
    {
     "data": {
      "text/plain": [
       "Unnamed: 0                  19737\n",
       "ID  объявления              19737\n",
       "Количество комнат              24\n",
       "Тип                             1\n",
       "Метро                        4871\n",
       "Адрес                       10452\n",
       "Площадь, м2                  9585\n",
       "Дом                          2415\n",
       "Парковка                        5\n",
       "Цена                         2219\n",
       "Телефоны                    11616\n",
       "Описание                    19456\n",
       "Ремонт                          4\n",
       "Площадь комнат, м2           3462\n",
       "Балкон                         18\n",
       "Окна                            3\n",
       "Санузел                        20\n",
       "Можно с детьми/животными        3\n",
       "Дополнительно                 488\n",
       "Название ЖК                  1133\n",
       "Серия дома                    369\n",
       "Высота потолков, м             89\n",
       "Лифт                           34\n",
       "Мусоропровод                    2\n",
       "Ссылка на объявление        19737\n",
       "Станция                       277\n",
       "Путь до метро                  96\n",
       "Общая площадь                 917\n",
       "slash_count                     3\n",
       "rooms_qty                       7\n",
       "room_type                       3\n",
       "Станция метро                 277\n",
       "dtype: int64"
      ]
     },
     "execution_count": 94,
     "metadata": {},
     "output_type": "execute_result"
    }
   ],
   "source": [
    "df.nunique()"
   ]
  },
  {
   "cell_type": "code",
   "execution_count": 178,
   "id": "9db4ad26",
   "metadata": {},
   "outputs": [],
   "source": [
    "df['Общая площадь'] = df['Площадь, м2'].str.split('/').str[0].astype(float) # создала новую колонку с Общей площадью квартиры (float)"
   ]
  },
  {
   "cell_type": "code",
   "execution_count": null,
   "id": "8198f12b",
   "metadata": {},
   "outputs": [
    {
     "data": {
      "text/plain": [
       "np.int64(14262)"
      ]
     },
     "execution_count": 56,
     "metadata": {},
     "output_type": "execute_result"
    }
   ],
   "source": [
    "#df['Количество комнат'].unique() #Возможны 24 варианта, но можно разделить на два отдельных параметра qty и type\n",
    "df[['rooms_qty', 'room_type']] = df['Количество комнат'].str.split(',', expand=True) # создали два столбца, оба str\n",
    "df['rooms_qty'] = df['rooms_qty'].str.strip().fillna(0).astype(int) # заполнили отсутствующие данные 0 и привели тип к int\n",
    "df['room_type'] = df['room_type'].str.strip() # убрали лишние пробелы\n",
    "df['room_type'].isnull().sum()"
   ]
  },
  {
   "cell_type": "markdown",
   "id": "30cf5c20",
   "metadata": {},
   "source": [
    "# Распределение предложений по количеству комнат\n",
    "\n",
    "В выборке представлены 1-6 комнатные квартиры. 56% относятся к категории 1-2х комантных квартир.  \n",
    "\n",
    "В 535 квартирах отсутствует инфомрация о количестве комант. "
   ]
  },
  {
   "cell_type": "code",
   "execution_count": 145,
   "id": "8bde60c0",
   "metadata": {},
   "outputs": [
    {
     "data": {
      "image/png": "[encoded data removed]",
      "text/plain": [
       "<Figure size 830x500 with 1 Axes>"
      ]
     },
     "metadata": {},
     "output_type": "display_data"
    }
   ],
   "source": [
    "plt.style.use('seaborn-v0_8-whitegrid')\n",
    "plt.figure(figsize=(8.3, 5))\n",
    "sns.countplot(data=df, x='rooms_qty');\n",
    "plt.xlabel('Количество комант')\n",
    "plt.ylabel('Количество предложений');"
   ]
  },
  {
   "cell_type": "markdown",
   "id": "10921fe3",
   "metadata": {},
   "source": [
    "# Распределение предложений по общей площади. \n",
    "\n",
    "В выборке представлены объекты с площадью в диапазоне от 7 км.м до 811 кв.м.\n",
    "\n",
    "График отражает распределение значений, относящихся ко 2-3 квартилям."
   ]
  },
  {
   "cell_type": "code",
   "execution_count": null,
   "id": "e0c7d1bf",
   "metadata": {},
   "outputs": [
    {
     "data": {
      "image/png": "[encoded data removed]",
      "text/plain": [
       "<Figure size 725x500 with 1 Axes>"
      ]
     },
     "metadata": {},
     "output_type": "display_data"
    }
   ],
   "source": [
    "Q1 = df['Общая площадь'].quantile(0.25)\n",
    "Q3 = df['Общая площадь'].quantile(0.75)\n",
    "IQR = Q3 - Q1\n",
    "#фильтруем площадь внутри \"внутреннего интерквартильного диапазона\"\n",
    "filtered_df = df[(df['Общая площадь'] >= Q1 - 1.5*IQR) & (df['Общая площадь'] <= Q3 + 1.5*IQR)]\n",
    "sns.displot(data=filtered_df, x='Общая площадь', aspect=1.45);"
   ]
  },
  {
   "cell_type": "markdown",
   "id": "edb398a4",
   "metadata": {},
   "source": [
    "# Топ 10 станций Метро\n",
    "\n",
    "График отражает топ станций метро по количеству расположенных рядом объектов"
   ]
  },
  {
   "cell_type": "code",
   "execution_count": 135,
   "id": "61fc29e3",
   "metadata": {},
   "outputs": [
    {
     "data": {
      "image/png": "[encoded data removed]",
      "text/plain": [
       "<Figure size 640x480 with 1 Axes>"
      ]
     },
     "metadata": {},
     "output_type": "display_data"
    }
   ],
   "source": [
    "top10subway = df['Станция метро'].value_counts().nlargest(10).index\n",
    "df_top10subway = df[df['Станция метро'].isin(top10subway)]\n",
    "top10_counts = df_top10subway['Станция метро'].value_counts()\n",
    "sns.countplot(data=df_top10subway, y='Станция метро', order=top10_counts.index);\n"
   ]
  }
 ],
 "metadata": {
  "kernelspec": {
   "display_name": ".venv",
   "language": "python",
   "name": "python3"
  },
  "language_info": {
   "codemirror_mode": {
    "name": "ipython",
    "version": 3
   },
   "file_extension": ".py",
   "mimetype": "text/x-python",
   "name": "python",
   "nbconvert_exporter": "python",
   "pygments_lexer": "ipython3",
   "version": "3.12.10"
  }
 },
 "nbformat": 4,
 "nbformat_minor": 5
}
