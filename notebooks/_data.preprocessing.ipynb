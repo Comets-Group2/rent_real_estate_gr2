{
 "cells": [
  {
   "cell_type": "code",
   "execution_count": 3,
   "id": "9fe91afe",
   "metadata": {},
   "outputs": [],
   "source": [
    "import pandas as pd\n",
    "import matplotlib.pyplot as plt\n",
    "import numpy as np\n",
    "import seaborn as sns\n",
    "pd.set_option('display.max_columns', None)  # отобразить все колонки\n",
    "pd.set_option('display.max_rows', None)"
   ]
  },
  {
   "cell_type": "code",
   "execution_count": 4,
   "id": "871caced",
   "metadata": {},
   "outputs": [
    {
     "name": "stderr",
     "output_type": "stream",
     "text": [
      "/var/folders/gh/67ts22d16hb3zwvp89m4r6000000gn/T/ipykernel_83424/2416377651.py:1: DtypeWarning: Columns (28) have mixed types. Specify dtype option on import or set low_memory=False.\n",
      "  df = pd.read_csv('../data/_data.with_new_cols.csv')\n"
     ]
    }
   ],
   "source": [
    "df = pd.read_csv('../data/_data.with_new_cols.csv')"
   ]
  },
  {
   "cell_type": "code",
   "execution_count": 6,
   "id": "d394b737",
   "metadata": {},
   "outputs": [],
   "source": [
    "duplicates = df[df.duplicated(subset=['Адрес', 'Общая площадь', 'rooms_qty'], keep=False)]"
   ]
  },
  {
   "cell_type": "code",
   "execution_count": 60,
   "id": "7497f5f2",
   "metadata": {},
   "outputs": [
    {
     "data": {
      "text/plain": [
       "array(['Дизайнерский', 'Евроремонт', 'Косметический', nan, 'Без ремонта'],\n",
       "      dtype=object)"
      ]
     },
     "execution_count": 60,
     "metadata": {},
     "output_type": "execute_result"
    }
   ],
   "source": [
    "df['Ремонт'].unique()"
   ]
  }
 ],
 "metadata": {
  "kernelspec": {
   "display_name": ".venv",
   "language": "python",
   "name": "python3"
  },
  "language_info": {
   "codemirror_mode": {
    "name": "ipython",
    "version": 3
   },
   "file_extension": ".py",
   "mimetype": "text/x-python",
   "name": "python",
   "nbconvert_exporter": "python",
   "pygments_lexer": "ipython3",
   "version": "3.12.10"
  }
 },
 "nbformat": 4,
 "nbformat_minor": 5
}
